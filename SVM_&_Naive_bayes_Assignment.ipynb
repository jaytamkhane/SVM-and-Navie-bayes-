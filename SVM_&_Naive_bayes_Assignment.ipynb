{
  "nbformat": 4,
  "nbformat_minor": 0,
  "metadata": {
    "colab": {
      "provenance": []
    },
    "kernelspec": {
      "name": "python3",
      "display_name": "Python 3"
    },
    "language_info": {
      "name": "python"
    }
  },
  "cells": [
    {
      "cell_type": "markdown",
      "source": [
        "# SVM & Naive bayes Assignment"
      ],
      "metadata": {
        "id": "abZ1ptVTf0FB"
      }
    },
    {
      "cell_type": "markdown",
      "source": [
        "## THEORY"
      ],
      "metadata": {
        "id": "88llpccvf6MK"
      }
    },
    {
      "cell_type": "markdown",
      "source": [
        "#### 1) What is a Support Vector Machine (SVM) ?"
      ],
      "metadata": {
        "id": "MuCP1kBggABu"
      }
    },
    {
      "cell_type": "markdown",
      "source": [
        "A Support Vector Machine (SVM) is a supervised machine learning algorithm used for both classification and regression tasks, that finds the optimal hyperplane or decision boundary to separate data points into different classes, maximizing the margin between them."
      ],
      "metadata": {
        "id": "3I3k4XkIf_-Q"
      }
    },
    {
      "cell_type": "markdown",
      "source": [
        "#### 2) What is the difference between Hard Margin and Soft Margin SVM ?"
      ],
      "metadata": {
        "id": "P7Qfg0aof_8D"
      }
    },
    {
      "cell_type": "markdown",
      "source": [
        "In Support Vector Machines, a hard margin aims for perfect separation of data points into classes with no misclassifications, while a soft margin allows for some misclassifications to improve generalization, especially when data is not perfectly separable."
      ],
      "metadata": {
        "id": "OD08GFebf_44"
      }
    },
    {
      "cell_type": "markdown",
      "source": [
        "#### 3)  What is the mathematical intuition behind SVM ?"
      ],
      "metadata": {
        "id": "aoCrWl3uf_2f"
      }
    },
    {
      "cell_type": "markdown",
      "source": [
        "SVM, at its core, aims to find the optimal hyperplane that maximizes the margin between classes, using support vectors that define the boundary, and can handle non-linear data through kernel tricks."
      ],
      "metadata": {
        "id": "8UfJICflf_0D"
      }
    },
    {
      "cell_type": "markdown",
      "source": [
        "#### 4) What is the role of Lagrange Multipliers in SVM ?"
      ],
      "metadata": {
        "id": "VF7XpMTlf_x6"
      }
    },
    {
      "cell_type": "markdown",
      "source": [
        "In Support Vector Machines (SVM), Lagrange multipliers, often denoted as α (alpha), are crucial for optimizing the margin and finding the optimal hyperplane by transforming the constrained optimization problem into a dual problem, where the solution is equivalent to the original."
      ],
      "metadata": {
        "id": "gwHXbcFhf_vr"
      }
    },
    {
      "cell_type": "markdown",
      "source": [
        "#### 5) What are Support Vectors in SVM ?"
      ],
      "metadata": {
        "id": "HbL1zfikf_sb"
      }
    },
    {
      "cell_type": "markdown",
      "source": [
        "In Support Vector Machines (SVM), support vectors are the data points closest to the decision boundary (hyperplane) that define the margin, and they are crucial for determining the position and orientation of the hyperplane."
      ],
      "metadata": {
        "id": "UOeDQuiyf_pX"
      }
    },
    {
      "cell_type": "markdown",
      "source": [
        "#### 6) What is a Support Vector Classifier (SVC) ?"
      ],
      "metadata": {
        "id": "tjkNuFzzf_nP"
      }
    },
    {
      "cell_type": "markdown",
      "source": [
        "A Support Vector Classifier (SVC) is a machine learning algorithm used for classification tasks, specifically designed to find the optimal hyperplane that best separates data points into different classes, maximizing the margin between them."
      ],
      "metadata": {
        "id": "zO51KSqVh7JC"
      }
    },
    {
      "cell_type": "markdown",
      "source": [
        "#### 7) What is a Support Vector Regressor (SVR) ?"
      ],
      "metadata": {
        "id": "k3NJnyIih7Fk"
      }
    },
    {
      "cell_type": "markdown",
      "source": [
        "Support Vector Regression (SVR) is a machine learning algorithm, a variant of Support Vector Machines (SVM), used for regression tasks by finding a hyperplane that maximizes the margin while minimizing prediction errors, allowing for both linear and non-linear relationships."
      ],
      "metadata": {
        "id": "Xvd3Wo8Wh7Ce"
      }
    },
    {
      "cell_type": "markdown",
      "source": [
        "#### 8) What is the Kernel Trick in SVM ?"
      ],
      "metadata": {
        "id": "58topcvch7AL"
      }
    },
    {
      "cell_type": "markdown",
      "source": [
        "The kernel trick in Support Vector Machines (SVM) allows for efficient computation of complex, non-linear mappings by using a kernel function to implicitly map data into a higher-dimensional space, enabling linear separation where it might not be possible in the original space."
      ],
      "metadata": {
        "id": "Co_77RAfh693"
      }
    },
    {
      "cell_type": "markdown",
      "source": [
        "#### 9) Compare Linear Kernel, Polynomial Kernel, and RBF Kernel."
      ],
      "metadata": {
        "id": "jNW32iazh67k"
      }
    },
    {
      "cell_type": "markdown",
      "source": [
        "In Support Vector Machines (SVM), the linear kernel is simple and efficient for linearly separable data, while the polynomial kernel offers flexibility for capturing non-linear relationships, and the RBF kernel (also known as Gaussian kernel) is widely used for its ability to model complex, non-linear boundaries."
      ],
      "metadata": {
        "id": "gCJBM1g3h65k"
      }
    },
    {
      "cell_type": "markdown",
      "source": [
        "#### 10) What is the effect of the C parameter in SVM ?"
      ],
      "metadata": {
        "id": "NaqPwTkxh63Z"
      }
    },
    {
      "cell_type": "markdown",
      "source": [
        "In Support Vector Machines (SVM), the 'C' parameter acts as a regularization parameter, controlling the trade-off between maximizing the margin and minimizing misclassifications on the training data."
      ],
      "metadata": {
        "id": "t77B3Rwsh61N"
      }
    },
    {
      "cell_type": "markdown",
      "source": [
        "#### 11) What is the role of the Gamma parameter in RBF Kernel SVM ?"
      ],
      "metadata": {
        "id": "k-aD3Rr_h6xj"
      }
    },
    {
      "cell_type": "markdown",
      "source": [
        "In RBF Kernel SVM, the gamma parameter controls the influence of individual training examples on the decision boundary, essentially determining how far the influence of a single training example reaches."
      ],
      "metadata": {
        "id": "EUCkK3bbh6ut"
      }
    },
    {
      "cell_type": "markdown",
      "source": [
        "#### 12) What is the Naïve Bayes classifier, and why is it called \"Naive\" ?"
      ],
      "metadata": {
        "id": "5lWU6W-kh6sS"
      }
    },
    {
      "cell_type": "markdown",
      "source": [
        "The Naive Bayes classifier is a probabilistic machine learning model based on Bayes' theorem, and it's called \"Naïve\" because it makes a strong, simplifying assumption of independence between features when calculating probabilities, which is often unrealistic in real-world data."
      ],
      "metadata": {
        "id": "iFZ82_z-jBaY"
      }
    },
    {
      "cell_type": "markdown",
      "source": [
        "#### 13) What is Bayes’ Theorem ?"
      ],
      "metadata": {
        "id": "OWlAJMGtjBXw"
      }
    },
    {
      "cell_type": "markdown",
      "source": [
        "Bayes' Theorem, a cornerstone of probability theory, is fundamental in machine learning for updating probabilities based on new evidence, particularly in classification tasks and probabilistic models like Naive Bayes. It allows models to make informed predictions by incorporating prior knowledge and learning from data."
      ],
      "metadata": {
        "id": "nOmzHlCyjBUt"
      }
    },
    {
      "cell_type": "markdown",
      "source": [
        "#### 14) Explain the differences between Gaussian Naïve Bayes, Multinomial Naïve Bayes, and Bernoulli Naïve Bayes."
      ],
      "metadata": {
        "id": "Z_fQ447njBSO"
      }
    },
    {
      "cell_type": "markdown",
      "source": [
        "The core difference between Gaussian, Multinomial, and Bernoulli Naive Bayes lies in the type of data they are designed to handle and the assumptions they make about the distribution of features: Gaussian handles continuous data, Multinomial handles discrete counts, and Bernoulli handles binary or boolean features."
      ],
      "metadata": {
        "id": "0qIUJLj5jBPn"
      }
    },
    {
      "cell_type": "markdown",
      "source": [
        "#### 15)  When should you use Gaussian Naïve Bayes over other variants ?"
      ],
      "metadata": {
        "id": "dM_NqBwkjBNS"
      }
    },
    {
      "cell_type": "markdown",
      "source": [
        "Use Gaussian Naive Bayes when dealing with continuous data features that are assumed to follow a Gaussian (normal) distribution."
      ],
      "metadata": {
        "id": "_x7rQus-jBK3"
      }
    },
    {
      "cell_type": "markdown",
      "source": [
        "#### 16) What are the key assumptions made by Naive Bayes ?"
      ],
      "metadata": {
        "id": "HKTA-x2QjBIA"
      }
    },
    {
      "cell_type": "markdown",
      "source": [
        "The core assumption of the Naive Bayes algorithm is that features are conditionally independent of each other given the class label, meaning the presence or absence of one feature doesn't influence the presence or absence of another feature."
      ],
      "metadata": {
        "id": "sMn1cDGKjBFp"
      }
    },
    {
      "cell_type": "markdown",
      "source": [
        "#### 17) What are the advantages and disadvantages of Naive Bayes ?"
      ],
      "metadata": {
        "id": "CahrzKm_jBCk"
      }
    },
    {
      "cell_type": "markdown",
      "source": [
        "Naïve Bayes, while simple and fast, has both advantages and disadvantages. It's easy to implement, requires less training data, and scales well, but its performance can suffer due to the strong assumption of feature independence, which is often violated in real-world scenarios."
      ],
      "metadata": {
        "id": "0d5sNLsIjA_h"
      }
    },
    {
      "cell_type": "markdown",
      "source": [
        "#### 18) Why is Naive Bayes a good choice for text classification ?"
      ],
      "metadata": {
        "id": "reVgqYu5kbz6"
      }
    },
    {
      "cell_type": "markdown",
      "source": [
        "Naive Bayes is a good choice for text classification because it's a simple, fast, and effective algorithm that excels at handling high-dimensional data like text, making it computationally efficient and robust to noisy data."
      ],
      "metadata": {
        "id": "7db1LkcFkbwx"
      }
    },
    {
      "cell_type": "markdown",
      "source": [
        "#### 19) Compare SVM and Naïve Bayes for classification tasks."
      ],
      "metadata": {
        "id": "d1KvZUAtkbuf"
      }
    },
    {
      "cell_type": "markdown",
      "source": [
        "SVM (Support Vector Machine) and Naive Bayes differ significantly in their approaches to classification: SVM finds the optimal hyperplane to separate data, while Naive Bayes uses probabilities based on Bayes' Theorem, assuming feature independence."
      ],
      "metadata": {
        "id": "A-9PWN16kbrx"
      }
    },
    {
      "cell_type": "markdown",
      "source": [
        "#### 20)  How does Laplace Smoothing help in Naive Bayes ?"
      ],
      "metadata": {
        "id": "tNtJ5baVkbpV"
      }
    },
    {
      "cell_type": "markdown",
      "source": [
        "Laplace smoothing in Naive Bayes addresses the issue of zero probabilities by adding a small, positive value (often 1) to the count of each feature (word) in each class, preventing zero probabilities and improving model robustness, especially with limited data."
      ],
      "metadata": {
        "id": "rLvzSUiglHJT"
      }
    },
    {
      "cell_type": "markdown",
      "source": [
        "## Practical"
      ],
      "metadata": {
        "id": "uBiGEHH5lUkA"
      }
    },
    {
      "cell_type": "markdown",
      "source": [
        "#### 21) Write a Python program to train an SVM Classifier on the Iris dataset and evaluate accuracy."
      ],
      "metadata": {
        "id": "ITA0kV0vlUgk"
      }
    },
    {
      "cell_type": "code",
      "source": [
        "from sklearn.model_selection import train_test_split\n",
        "from sklearn import datasets\n",
        "from sklearn import svm\n",
        "from sklearn.metrics import accuracy_score\n",
        "\n",
        "# Load the Iris dataset\n",
        "iris = datasets.load_iris()\n",
        "X = iris.data\n",
        "y = iris.target\n",
        "\n",
        "# Split the data into training and testing sets\n",
        "X_train, X_test, y_train, y_test = train_test_split(X, y, test_size=0.25, random_state=1)\n",
        "\n",
        "# Create an SVM classifier\n",
        "clf = svm.SVC(kernel='linear') # You can experiment with different kernels\n",
        "\n",
        "# Train the classifier\n",
        "clf.fit(X_train, y_train)\n",
        "\n",
        "# Make predictions on the test set\n",
        "y_pred = clf.predict(X_test)\n",
        "\n",
        "# Evaluate accuracy\n",
        "accuracy = accuracy_score(y_test, y_pred)\n",
        "print(f\"Accuracy of SVM classifier on the Iris dataset: {accuracy}\")"
      ],
      "metadata": {
        "colab": {
          "base_uri": "https://localhost:8080/"
        },
        "id": "HqUejuT4loDT",
        "outputId": "9808be92-5a00-4452-db6d-ff1d1ac6601f"
      },
      "execution_count": 1,
      "outputs": [
        {
          "output_type": "stream",
          "name": "stdout",
          "text": [
            "Accuracy of SVM classifier on the Iris dataset: 1.0\n"
          ]
        }
      ]
    },
    {
      "cell_type": "markdown",
      "source": [
        "#### 22) Write a Python program to train two SVM classifiers with Linear and RBF kernels on the Wine dataset, then compare their accuracies."
      ],
      "metadata": {
        "id": "KaCDnkZQlUd9"
      }
    },
    {
      "cell_type": "code",
      "source": [
        "# Load the Wine dataset\n",
        "wine = datasets.load_wine()\n",
        "X = wine.data\n",
        "y = wine.target\n",
        "\n",
        "# Split the data into training and testing sets\n",
        "X_train, X_test, y_train, y_test = train_test_split(X, y, test_size=0.30, random_state=1)\n",
        "\n",
        "# Create an SVM classifier with a linear kernel\n",
        "clf_linear = svm.SVC(kernel='linear')\n",
        "\n",
        "# Train the linear kernel classifier\n",
        "clf_linear.fit(X_train, y_train)\n",
        "\n",
        "# Make predictions on the test set using the linear kernel\n",
        "y_pred_linear = clf_linear.predict(X_test)\n",
        "\n",
        "# Evaluate accuracy of the linear kernel\n",
        "accuracy_linear = accuracy_score(y_test, y_pred_linear)\n",
        "print(f\"Accuracy of SVM classifier with linear kernel on the Wine dataset: {accuracy_linear}\")\n",
        "\n",
        "# Create an SVM classifier with an RBF kernel\n",
        "clf_rbf = svm.SVC(kernel='rbf')\n",
        "\n",
        "# Train the RBF kernel classifier\n",
        "clf_rbf.fit(X_train, y_train)\n",
        "\n",
        "# Make predictions on the test set using the RBF kernel\n",
        "y_pred_rbf = clf_rbf.predict(X_test)\n",
        "\n",
        "# Evaluate accuracy of the RBF kernel\n",
        "accuracy_rbf = accuracy_score(y_test, y_pred_rbf)\n",
        "print(f\"Accuracy of SVM classifier with RBF kernel on the Wine dataset: {accuracy_rbf}\")"
      ],
      "metadata": {
        "colab": {
          "base_uri": "https://localhost:8080/"
        },
        "id": "eLhyeytfl721",
        "outputId": "bb41fde3-801f-42a3-8ec6-a7c25898f629"
      },
      "execution_count": 2,
      "outputs": [
        {
          "output_type": "stream",
          "name": "stdout",
          "text": [
            "Accuracy of SVM classifier with linear kernel on the Wine dataset: 0.9629629629629629\n",
            "Accuracy of SVM classifier with RBF kernel on the Wine dataset: 0.6851851851851852\n"
          ]
        }
      ]
    },
    {
      "cell_type": "markdown",
      "source": [
        "#### 23) Write a Python program to train an SVM Regressor (SVR) on a housing dataset and evaluate it using Mean Squared Error (MSE)."
      ],
      "metadata": {
        "id": "jfAw_dDhmLZb"
      }
    },
    {
      "cell_type": "code",
      "source": [
        "import numpy as np\n",
        "from sklearn.model_selection import train_test_split\n",
        "from sklearn.svm import SVR\n",
        "from sklearn.metrics import mean_squared_error\n",
        "from sklearn.datasets import fetch_california_housing\n",
        "\n",
        "# Load the housing dataset\n",
        "data = fetch_california_housing()\n",
        "X = data.data\n",
        "y = data.target\n",
        "\n",
        "# Split the dataset into training and testing sets\n",
        "X_train, X_test, y_train, y_test = train_test_split(X, y, test_size=0.2, random_state=42)\n",
        "\n",
        "# Create and train an SVM Regressor\n",
        "svr = SVR(kernel='rbf', C=1.0, epsilon=0.2)\n",
        "svr.fit(X_train, y_train)\n",
        "\n",
        "# Predict on the test set\n",
        "y_pred = svr.predict(X_test)\n",
        "\n",
        "# Calculate and print Mean Squared Error (MSE)\n",
        "mse = mean_squared_error(y_test, y_pred)\n",
        "print(f\"Mean Squared Error: {mse}\")"
      ],
      "metadata": {
        "colab": {
          "base_uri": "https://localhost:8080/"
        },
        "id": "3eUwx5dimXBf",
        "outputId": "2b4b5f18-84fd-42ed-9b3c-345e4c26fc08"
      },
      "execution_count": 2,
      "outputs": [
        {
          "output_type": "stream",
          "name": "stdout",
          "text": [
            "Mean Squared Error: 1.3242554581089472\n"
          ]
        }
      ]
    },
    {
      "cell_type": "markdown",
      "source": [
        "#### 24)  Write a Python program to train an SVM Classifier with a Polynomial Kernel and visualize the decision boundary."
      ],
      "metadata": {
        "id": "jDk7xLn5ox50"
      }
    },
    {
      "cell_type": "code",
      "source": [
        "import numpy as np\n",
        "import matplotlib.pyplot as plt\n",
        "from sklearn.datasets import make_classification\n",
        "from sklearn.svm import SVC\n",
        "from sklearn.preprocessing import StandardScaler\n",
        "from sklearn.model_selection import train_test_split\n",
        "\n",
        "# Generate synthetic data\n",
        "X, y = make_classification(\n",
        "    n_samples=200, n_features=2, n_informative=2, n_redundant=0,\n",
        "    n_clusters_per_class=1, class_sep=1.5, random_state=42\n",
        ")\n",
        "\n",
        "# Split the data into training and testing sets\n",
        "X_train, X_test, y_train, y_test = train_test_split(X, y, test_size=0.2, random_state=42)\n",
        "\n",
        "# Standardize the features\n",
        "scaler = StandardScaler()\n",
        "X_train = scaler.fit_transform(X_train)\n",
        "X_test = scaler.transform(X_test)\n",
        "\n",
        "# Train an SVM with a polynomial kernel\n",
        "svm_classifier = SVC(kernel='poly', degree=3, C=1.0)\n",
        "svm_classifier.fit(X_train, y_train)\n",
        "\n",
        "# Function to plot decision boundaries\n",
        "def plot_decision_boundary(X, y, classifier):\n",
        "    # Create a mesh grid\n",
        "    x_min, x_max = X[:, 0].min() - 1, X[:, 0].max() + 1\n",
        "    y_min, y_max = X[:, 1].min() - 1, X[:, 1].max() + 1\n",
        "    xx, yy = np.meshgrid(np.arange(x_min, x_max, 0.01),\n",
        "                         np.arange(y_min, y_max, 0.01))\n",
        "\n",
        "    # Predict for the entire grid\n",
        "    Z = classifier.predict(np.c_[xx.ravel(), yy.ravel()])\n",
        "    Z = Z.reshape(xx.shape)\n",
        "\n",
        "    # Plot the contour\n",
        "    plt.contourf(xx, yy, Z, alpha=0.3, cmap=plt.cm.Paired)\n",
        "    plt.scatter(X[:, 0], X[:, 1], c=y, edgecolors='k', cmap=plt.cm.Paired)\n",
        "    plt.title('Decision Boundary of SVM Classifier')\n",
        "    plt.xlabel('Feature 1')\n",
        "    plt.ylabel('Feature 2')\n",
        "\n",
        "# Visualize the decision boundary\n",
        "plot_decision_boundary(X_test, y_test, svm_classifier)\n",
        "plt.show()"
      ],
      "metadata": {
        "colab": {
          "base_uri": "https://localhost:8080/",
          "height": 472
        },
        "id": "d-51YYIGpJxD",
        "outputId": "5d1a89c8-5bf4-4764-e7d7-7ee146e16bb1"
      },
      "execution_count": 6,
      "outputs": [
        {
          "output_type": "display_data",
          "data": {
            "text/plain": [
              "<Figure size 640x480 with 1 Axes>"
            ],
            "image/png": "[encoded data removed]"
          },
          "metadata": {}
        }
      ]
    },
    {
      "cell_type": "markdown",
      "source": [
        "#### 25) Write a Python program to train a Gaussian Naïve Bayes classifier on the Breast Cancer dataset and evaluate accuracy."
      ],
      "metadata": {
        "id": "PlvxBlXhqxzn"
      }
    },
    {
      "cell_type": "code",
      "source": [
        "from sklearn.naive_bayes import GaussianNB\n",
        "from sklearn.datasets import load_breast_cancer\n",
        "from sklearn.model_selection import train_test_split\n",
        "from sklearn.metrics import accuracy_score\n",
        "\n",
        "# Load the Breast Cancer dataset\n",
        "data = load_breast_cancer()\n",
        "X, y = data.data, data.target\n",
        "\n",
        "# Split data into training and testing sets\n",
        "X_train, X_test, y_train, y_test = train_test_split(X, y, test_size=0.2, random_state=42)\n",
        "\n",
        "# Initialize and train the Gaussian Naive Bayes classifier\n",
        "gnb = GaussianNB()\n",
        "gnb.fit(X_train, y_train)\n",
        "\n",
        "# Make predictions on the test set\n",
        "y_pred = gnb.predict(X_test)\n",
        "\n",
        "# Evaluate accuracy\n",
        "accuracy = accuracy_score(y_test, y_pred)\n",
        "print(f\"Accuracy of Gaussian Naive Bayes classifier: {accuracy}\")"
      ],
      "metadata": {
        "colab": {
          "base_uri": "https://localhost:8080/"
        },
        "id": "k1b46Amwq78Y",
        "outputId": "9cd09a93-ca7c-4432-90a8-9431509e0f90"
      },
      "execution_count": 2,
      "outputs": [
        {
          "output_type": "stream",
          "name": "stdout",
          "text": [
            "Accuracy of Gaussian Naive Bayes classifier: 0.9736842105263158\n"
          ]
        }
      ]
    },
    {
      "cell_type": "markdown",
      "source": [
        "#### 26)  Write a Python program to train a Multinomial Naive Bayes classifier for text classification using the 20 Newsgroups dataset."
      ],
      "metadata": {
        "id": "VSwlu7q8tSE_"
      }
    },
    {
      "cell_type": "code",
      "source": [
        "from sklearn.datasets import fetch_20newsgroups\n",
        "from sklearn.feature_extraction.text import CountVectorizer\n",
        "from sklearn.naive_bayes import MultinomialNB\n",
        "from sklearn.pipeline import make_pipeline\n",
        "from sklearn.model_selection import train_test_split\n",
        "from sklearn.metrics import classification_report\n",
        "\n",
        "# Load the 20 Newsgroups dataset\n",
        "categories = ['sci.space', 'comp.graphics', 'rec.sport.hockey', 'talk.politics.mideast']  # Example categories\n",
        "data = fetch_20newsgroups(subset='all', categories=categories, remove=('headers', 'footers', 'quotes'))\n",
        "\n",
        "# Split the dataset into training and testing sets\n",
        "X_train, X_test, y_train, y_test = train_test_split(data.data, data.target, test_size=0.2, random_state=42)\n",
        "\n",
        "# Create a pipeline: CountVectorizer + MultinomialNB\n",
        "model = make_pipeline(CountVectorizer(), MultinomialNB())\n",
        "\n",
        "# Train the model on the training data\n",
        "model.fit(X_train, y_train)\n",
        "\n",
        "# Predict on the test data\n",
        "y_pred = model.predict(X_test)\n",
        "\n",
        "# Print the classification report\n",
        "print(classification_report(y_test, y_pred, target_names=data.target_names))"
      ],
      "metadata": {
        "colab": {
          "base_uri": "https://localhost:8080/"
        },
        "id": "8-1F-8D8q93s",
        "outputId": "e270e7fb-7f19-4681-a858-c9cd70705c65"
      },
      "execution_count": 3,
      "outputs": [
        {
          "output_type": "stream",
          "name": "stdout",
          "text": [
            "                       precision    recall  f1-score   support\n",
            "\n",
            "        comp.graphics       0.93      0.90      0.92       192\n",
            "     rec.sport.hockey       0.94      0.87      0.91       199\n",
            "            sci.space       0.93      0.91      0.92       193\n",
            "talk.politics.mideast       0.87      0.97      0.92       196\n",
            "\n",
            "             accuracy                           0.91       780\n",
            "            macro avg       0.92      0.91      0.91       780\n",
            "         weighted avg       0.92      0.91      0.91       780\n",
            "\n"
          ]
        }
      ]
    },
    {
      "cell_type": "markdown",
      "source": [
        "#### 27)  Write a Python program to train an SVM Classifier with different C values and compare the decision boundaries visually."
      ],
      "metadata": {
        "id": "XgmsTPXNtlw9"
      }
    },
    {
      "cell_type": "code",
      "source": [
        "import numpy as np\n",
        "import matplotlib.pyplot as plt\n",
        "from sklearn.datasets import make_classification\n",
        "from sklearn.svm import SVC\n",
        "\n",
        "# Generate synthetic data\n",
        "X, y = make_classification(n_samples=100, n_features=2, n_informative=2, n_redundant=0, random_state=42)\n",
        "\n",
        "# Define different C values to compare\n",
        "C_values = [0.1, 1, 10]\n",
        "\n",
        "# Function to plot decision boundaries\n",
        "def plot_decision_boundaries(X, y, model, ax):\n",
        "    ax.scatter(X[:, 0], X[:, 1], c=y, cmap=plt.cm.Paired, edgecolors='k')\n",
        "    x_min, x_max = X[:, 0].min() - 1, X[:, 0].max() + 1\n",
        "    y_min, y_max = X[:, 1].min() - 1, X[:, 1].max() + 1\n",
        "    xx, yy = np.meshgrid(np.linspace(x_min, x_max, 100), np.linspace(y_min, y_max, 100))\n",
        "    Z = model.predict(np.c_[xx.ravel(), yy.ravel()])\n",
        "    Z = Z.reshape(xx.shape)\n",
        "    ax.contourf(xx, yy, Z, alpha=0.8, cmap=plt.cm.Paired)\n",
        "    ax.set_xlim(x_min, x_max)\n",
        "    ax.set_ylim(y_min, y_max)\n",
        "\n",
        "# Plot decision boundaries for different C values\n",
        "fig, axes = plt.subplots(1, len(C_values), figsize=(15, 5))\n",
        "\n",
        "for i, C in enumerate(C_values):\n",
        "    clf = SVC(kernel='linear', C=C)\n",
        "    clf.fit(X, y)\n",
        "    ax = axes[i]\n",
        "    plot_decision_boundaries(X, y, clf, ax)\n",
        "    ax.set_title(f\"SVM with C={C}\")\n",
        "\n",
        "plt.tight_layout()\n",
        "plt.show()"
      ],
      "metadata": {
        "colab": {
          "base_uri": "https://localhost:8080/",
          "height": 507
        },
        "id": "ztHOvbPgtex0",
        "outputId": "26694267-5304-4b12-dfcd-59abe1691b09"
      },
      "execution_count": 4,
      "outputs": [
        {
          "output_type": "display_data",
          "data": {
            "text/plain": [
              "<Figure size 1500x500 with 3 Axes>"
            ],
            "image/png": "[encoded data removed]"
          },
          "metadata": {}
        }
      ]
    },
    {
      "cell_type": "markdown",
      "source": [
        "#### 28) Write a Python program to train a Bernoulli Naïve Bayes classifier for binary classification on a dataset with binary features."
      ],
      "metadata": {
        "id": "Z7C7cSJ-t8mg"
      }
    },
    {
      "cell_type": "code",
      "source": [
        "import numpy as np\n",
        "from sklearn.model_selection import train_test_split\n",
        "from sklearn.naive_bayes import BernoulliNB\n",
        "from sklearn.metrics import classification_report, accuracy_score\n",
        "\n",
        "# Generate a synthetic binary dataset\n",
        "np.random.seed(42)\n",
        "X = np.random.randint(2, size=(100, 10))  # 100 samples, 10 binary features\n",
        "y = np.random.randint(2, size=100)        # Binary target (0 or 1)\n",
        "\n",
        "# Split the dataset into training and testing sets\n",
        "X_train, X_test, y_train, y_test = train_test_split(X, y, test_size=0.30, random_state=42)\n",
        "\n",
        "# Create and train the Bernoulli Naïve Bayes classifier\n",
        "bnb = BernoulliNB()\n",
        "bnb.fit(X_train, y_train)\n",
        "\n",
        "# Predict on the test data\n",
        "y_pred = bnb.predict(X_test)\n",
        "\n",
        "# Evaluate the model\n",
        "accuracy = accuracy_score(y_test, y_pred)\n",
        "print(f\"Accuracy: {accuracy}\")\n",
        "print(\"\\nClassification Report:\")\n",
        "print(classification_report(y_test, y_pred))"
      ],
      "metadata": {
        "colab": {
          "base_uri": "https://localhost:8080/"
        },
        "id": "OCiRJfBLtyl4",
        "outputId": "b0928d6f-0aee-49a5-f4f0-e4247bffa683"
      },
      "execution_count": 6,
      "outputs": [
        {
          "output_type": "stream",
          "name": "stdout",
          "text": [
            "Accuracy: 0.5333333333333333\n",
            "\n",
            "Classification Report:\n",
            "              precision    recall  f1-score   support\n",
            "\n",
            "           0       0.50      0.93      0.65        14\n",
            "           1       0.75      0.19      0.30        16\n",
            "\n",
            "    accuracy                           0.53        30\n",
            "   macro avg       0.62      0.56      0.47        30\n",
            "weighted avg       0.63      0.53      0.46        30\n",
            "\n"
          ]
        }
      ]
    },
    {
      "cell_type": "markdown",
      "source": [
        "#### 29) Write a Python program to apply feature scaling before training an SVM model and compare results with unscaled data."
      ],
      "metadata": {
        "id": "HBESnBDluSLU"
      }
    },
    {
      "cell_type": "code",
      "source": [
        "import numpy as np\n",
        "from sklearn.datasets import make_classification\n",
        "from sklearn.svm import SVC\n",
        "from sklearn.preprocessing import StandardScaler\n",
        "from sklearn.model_selection import train_test_split\n",
        "from sklearn.metrics import accuracy_score, classification_report\n",
        "\n",
        "# Generate synthetic data\n",
        "X, y = make_classification(n_samples=200, n_features=2, n_informative=2, n_redundant=0, random_state=42)\n",
        "\n",
        "# Split the dataset into training and testing sets\n",
        "X_train, X_test, y_train, y_test = train_test_split(X, y, test_size=0.2, random_state=42)\n",
        "\n",
        "# Train an SVM model without feature scaling\n",
        "svm_unscaled = SVC(kernel='rbf', C=1.0)\n",
        "svm_unscaled.fit(X_train, y_train)\n",
        "y_pred_unscaled = svm_unscaled.predict(X_test)\n",
        "accuracy_unscaled = accuracy_score(y_test, y_pred_unscaled)\n",
        "\n",
        "# Apply feature scaling to the dataset\n",
        "scaler = StandardScaler()\n",
        "X_train_scaled = scaler.fit_transform(X_train)\n",
        "X_test_scaled = scaler.transform(X_test)\n",
        "\n",
        "# Train an SVM model with feature scaling\n",
        "svm_scaled = SVC(kernel='rbf', C=1.0)\n",
        "svm_scaled.fit(X_train_scaled, y_train)\n",
        "y_pred_scaled = svm_scaled.predict(X_test_scaled)\n",
        "accuracy_scaled = accuracy_score(y_test, y_pred_scaled)\n",
        "\n",
        "# Compare results\n",
        "print(\"Results without feature scaling:\")\n",
        "print(f\"Accuracy: {accuracy_unscaled}\")\n",
        "print(classification_report(y_test, y_pred_unscaled))\n",
        "\n",
        "print(\"\\nResults with feature scaling:\")\n",
        "print(f\"Accuracy: {accuracy_scaled}\")\n",
        "print(classification_report(y_test, y_pred_scaled))"
      ],
      "metadata": {
        "colab": {
          "base_uri": "https://localhost:8080/"
        },
        "id": "UNYIq1kcuHyi",
        "outputId": "b3b1640e-0219-4e99-eca6-0ff7bc3018e4"
      },
      "execution_count": 8,
      "outputs": [
        {
          "output_type": "stream",
          "name": "stdout",
          "text": [
            "Results without feature scaling:\n",
            "Accuracy: 0.775\n",
            "              precision    recall  f1-score   support\n",
            "\n",
            "           0       0.78      0.74      0.76        19\n",
            "           1       0.77      0.81      0.79        21\n",
            "\n",
            "    accuracy                           0.78        40\n",
            "   macro avg       0.78      0.77      0.77        40\n",
            "weighted avg       0.78      0.78      0.77        40\n",
            "\n",
            "\n",
            "Results with feature scaling:\n",
            "Accuracy: 0.775\n",
            "              precision    recall  f1-score   support\n",
            "\n",
            "           0       0.78      0.74      0.76        19\n",
            "           1       0.77      0.81      0.79        21\n",
            "\n",
            "    accuracy                           0.78        40\n",
            "   macro avg       0.78      0.77      0.77        40\n",
            "weighted avg       0.78      0.78      0.77        40\n",
            "\n"
          ]
        }
      ]
    },
    {
      "cell_type": "markdown",
      "source": [
        "#### 30) Write a Python program to train a Gaussian Naïve Bayes model and compare the predictions before and after Laplace Smoothing."
      ],
      "metadata": {
        "id": "AloMXtKnuuw2"
      }
    },
    {
      "cell_type": "code",
      "source": [
        "import numpy as np\n",
        "from sklearn.model_selection import train_test_split\n",
        "from sklearn.naive_bayes import GaussianNB\n",
        "from sklearn.metrics import accuracy_score, classification_report\n",
        "from sklearn.datasets import make_classification\n",
        "\n",
        "# Generate synthetic dataset\n",
        "X, y = make_classification(n_samples=200, n_features=5, n_informative=3, n_redundant=0, random_state=42)\n",
        "\n",
        "# Split the dataset into training and testing sets\n",
        "X_train, X_test, y_train, y_test = train_test_split(X, y, test_size=0.2, random_state=42)\n",
        "\n",
        "# Train Gaussian Naïve Bayes without Laplace smoothing (default)\n",
        "gnb_default = GaussianNB()\n",
        "gnb_default.fit(X_train, y_train)\n",
        "y_pred_default = gnb_default.predict(X_test)\n",
        "\n",
        "# Train Gaussian Naïve Bayes with Laplace smoothing (via var_smoothing)\n",
        "gnb_smoothed = GaussianNB(var_smoothing=1e-2)  # Increase smoothing parameter\n",
        "gnb_smoothed.fit(X_train, y_train)\n",
        "y_pred_smoothed = gnb_smoothed.predict(X_test)\n",
        "\n",
        "# Compare results\n",
        "print(\"Results without Laplace Smoothing:\")\n",
        "print(f\"Accuracy: {accuracy_score(y_test, y_pred_default)}\")\n",
        "print(classification_report(y_test, y_pred_default))\n",
        "\n",
        "print(\"\\nResults with Laplace Smoothing:\")\n",
        "print(f\"Accuracy: {accuracy_score(y_test, y_pred_smoothed)}\")\n",
        "print(classification_report(y_test, y_pred_smoothed))"
      ],
      "metadata": {
        "colab": {
          "base_uri": "https://localhost:8080/"
        },
        "id": "SkS4LFBhugC6",
        "outputId": "a133cabc-0183-4fa0-c5b4-6a336455b1a6"
      },
      "execution_count": 9,
      "outputs": [
        {
          "output_type": "stream",
          "name": "stdout",
          "text": [
            "Results without Laplace Smoothing:\n",
            "Accuracy: 0.85\n",
            "              precision    recall  f1-score   support\n",
            "\n",
            "           0       0.84      0.91      0.88        23\n",
            "           1       0.87      0.76      0.81        17\n",
            "\n",
            "    accuracy                           0.85        40\n",
            "   macro avg       0.85      0.84      0.84        40\n",
            "weighted avg       0.85      0.85      0.85        40\n",
            "\n",
            "\n",
            "Results with Laplace Smoothing:\n",
            "Accuracy: 0.85\n",
            "              precision    recall  f1-score   support\n",
            "\n",
            "           0       0.84      0.91      0.88        23\n",
            "           1       0.87      0.76      0.81        17\n",
            "\n",
            "    accuracy                           0.85        40\n",
            "   macro avg       0.85      0.84      0.84        40\n",
            "weighted avg       0.85      0.85      0.85        40\n",
            "\n"
          ]
        }
      ]
    },
    {
      "cell_type": "markdown",
      "source": [
        "#### 31) Write a Python program to train an SVM Classifier and use GridSearchCV to tune the hyperparameters (C, gamma, kernel)."
      ],
      "metadata": {
        "id": "AjkF6pRnvARQ"
      }
    },
    {
      "cell_type": "code",
      "source": [
        "from sklearn.datasets import make_classification\n",
        "from sklearn.svm import SVC\n",
        "from sklearn.model_selection import GridSearchCV, train_test_split\n",
        "from sklearn.metrics import classification_report, accuracy_score\n",
        "\n",
        "# Generate synthetic dataset\n",
        "X, y = make_classification(n_samples=200, n_features=10, n_informative=5, n_redundant=0, random_state=42)\n",
        "\n",
        "# Split the dataset into training and testing sets\n",
        "X_train, X_test, y_train, y_test = train_test_split(X, y, test_size=0.2, random_state=42)\n",
        "\n",
        "# Define the SVM model\n",
        "svm = SVC()\n",
        "\n",
        "# Define the hyperparameter grid\n",
        "param_grid = {\n",
        "    'C': [0.1, 1, 10, 100],\n",
        "    'gamma': [1, 0.1, 0.01, 0.001],\n",
        "    'kernel': ['linear', 'rbf', 'poly']\n",
        "}\n",
        "\n",
        "# Create the GridSearchCV object\n",
        "grid_search = GridSearchCV(estimator=svm, param_grid=param_grid, scoring='accuracy', cv=5, verbose=1)\n",
        "\n",
        "# Perform the grid search\n",
        "grid_search.fit(X_train, y_train)\n",
        "\n",
        "# Get the best parameters and best estimator\n",
        "best_params = grid_search.best_params_\n",
        "best_model = grid_search.best_estimator_\n",
        "\n",
        "print(\"Best Parameters:\")\n",
        "print(best_params)\n",
        "\n",
        "# Evaluate the best model on the test set\n",
        "y_pred = best_model.predict(X_test)\n",
        "accuracy = accuracy_score(y_test, y_pred)\n",
        "print(\"\\nAccuracy on the test set:\", accuracy)\n",
        "print(\"\\nClassification Report:\")\n",
        "print(classification_report(y_test, y_pred))"
      ],
      "metadata": {
        "colab": {
          "base_uri": "https://localhost:8080/"
        },
        "id": "ap8hPe1bu8W8",
        "outputId": "997710fa-1cb7-4610-ecd1-b595413273f8"
      },
      "execution_count": 10,
      "outputs": [
        {
          "output_type": "stream",
          "name": "stdout",
          "text": [
            "Fitting 5 folds for each of 48 candidates, totalling 240 fits\n",
            "Best Parameters:\n",
            "{'C': 1, 'gamma': 0.1, 'kernel': 'rbf'}\n",
            "\n",
            "Accuracy on the test set: 0.875\n",
            "\n",
            "Classification Report:\n",
            "              precision    recall  f1-score   support\n",
            "\n",
            "           0       0.85      0.89      0.87        19\n",
            "           1       0.90      0.86      0.88        21\n",
            "\n",
            "    accuracy                           0.88        40\n",
            "   macro avg       0.88      0.88      0.87        40\n",
            "weighted avg       0.88      0.88      0.88        40\n",
            "\n"
          ]
        }
      ]
    },
    {
      "cell_type": "markdown",
      "source": [
        "#### 32) Write a Python program to train an SVM Classifier on an imbalanced dataset and apply class weighting and check it improve accuracy."
      ],
      "metadata": {
        "id": "eQsej98kvZqV"
      }
    },
    {
      "cell_type": "code",
      "source": [
        "import numpy as np\n",
        "from sklearn.model_selection import train_test_split\n",
        "from sklearn.svm import SVC\n",
        "from sklearn.metrics import accuracy_score, classification_report\n",
        "from sklearn.datasets import make_classification\n",
        "from sklearn.utils.class_weight import compute_class_weight\n",
        "\n",
        "# Generate an imbalanced dataset\n",
        "X, y = make_classification(n_samples=1000, n_features=20, n_informative=10, n_redundant=5,\n",
        "                           n_classes=2, weights=[0.9, 0.1], random_state=42)  # 90% of class 0, 10% of class 1\n",
        "\n",
        "\n",
        "# Split the data\n",
        "X_train, X_test, y_train, y_test = train_test_split(X, y, test_size=0.2, random_state=42)\n",
        "\n",
        "# Calculate class weights\n",
        "class_weights = compute_class_weight('balanced', classes=np.unique(y_train), y=y_train)\n",
        "class_weight_dict = dict(enumerate(class_weights))\n",
        "\n",
        "\n",
        "# Train an SVM without class weighting\n",
        "svm_no_weights = SVC(kernel='linear')\n",
        "svm_no_weights.fit(X_train, y_train)\n",
        "y_pred_no_weights = svm_no_weights.predict(X_test)\n",
        "accuracy_no_weights = accuracy_score(y_test, y_pred_no_weights)\n",
        "print(\"SVM without class weights:\")\n",
        "print(f\"Accuracy: {accuracy_no_weights}\")\n",
        "print(classification_report(y_test, y_pred_no_weights))\n",
        "\n",
        "\n",
        "# Train an SVM with class weighting\n",
        "svm_with_weights = SVC(kernel='linear', class_weight=class_weight_dict)\n",
        "svm_with_weights.fit(X_train, y_train)\n",
        "y_pred_with_weights = svm_with_weights.predict(X_test)\n",
        "accuracy_with_weights = accuracy_score(y_test, y_pred_with_weights)\n",
        "print(\"\\nSVM with class weights:\")\n",
        "print(f\"Accuracy: {accuracy_with_weights}\")\n",
        "print(classification_report(y_test, y_pred_with_weights))"
      ],
      "metadata": {
        "colab": {
          "base_uri": "https://localhost:8080/"
        },
        "id": "JfM8RLqbvnSP",
        "outputId": "e7551f8c-d87a-4812-afc4-fd66b0e0ae5b"
      },
      "execution_count": 11,
      "outputs": [
        {
          "output_type": "stream",
          "name": "stdout",
          "text": [
            "SVM without class weights:\n",
            "Accuracy: 0.905\n",
            "              precision    recall  f1-score   support\n",
            "\n",
            "           0       0.90      1.00      0.95       177\n",
            "           1       1.00      0.17      0.30        23\n",
            "\n",
            "    accuracy                           0.91       200\n",
            "   macro avg       0.95      0.59      0.62       200\n",
            "weighted avg       0.91      0.91      0.87       200\n",
            "\n",
            "\n",
            "SVM with class weights:\n",
            "Accuracy: 0.76\n",
            "              precision    recall  f1-score   support\n",
            "\n",
            "           0       0.97      0.75      0.85       177\n",
            "           1       0.30      0.83      0.44        23\n",
            "\n",
            "    accuracy                           0.76       200\n",
            "   macro avg       0.64      0.79      0.64       200\n",
            "weighted avg       0.89      0.76      0.80       200\n",
            "\n"
          ]
        }
      ]
    },
    {
      "cell_type": "markdown",
      "source": [
        "#### 33) Write a Python program to implement a Naive Bayes classifier for spam detection using email data."
      ],
      "metadata": {
        "id": "VKGsGb3Rvy--"
      }
    },
    {
      "cell_type": "code",
      "source": [
        "from sklearn.feature_extraction.text import TfidfVectorizer\n",
        "from sklearn.model_selection import train_test_split\n",
        "from sklearn.naive_bayes import MultinomialNB\n",
        "from sklearn.metrics import accuracy_score, classification_report\n",
        "import warnings\n",
        "warnings.filterwarnings(\"ignore\")\n",
        "\n",
        "# Example email dataset\n",
        "emails = [\n",
        "    \"Win a $1000 gift card now, click here!\",\n",
        "    \"Limited time offer, buy one get one free!\",\n",
        "    \"Important update regarding your bank account.\",\n",
        "    \"Meeting agenda for tomorrow's discussion.\",\n",
        "    \"Congratulations! You have been selected for a prize.\",\n",
        "    \"Let's schedule a time for our project review.\",\n",
        "    \"Earn money fast without any effort!\",\n",
        "    \"Your invoice for the last month is attached.\"\n",
        "]\n",
        "labels = [1, 1, 0, 0, 1, 0, 1, 0]  # 1 for spam, 0 for not spam\n",
        "\n",
        "# Split the dataset into training and testing sets\n",
        "X_train, X_test, y_train, y_test = train_test_split(emails, labels, test_size=0.25, random_state=42)\n",
        "\n",
        "# Convert text data to numerical features using TfidfVectorizer\n",
        "vectorizer = TfidfVectorizer()\n",
        "X_train_tfidf = vectorizer.fit_transform(X_train)\n",
        "X_test_tfidf = vectorizer.transform(X_test)\n",
        "\n",
        "# Train the Naïve Bayes classifier\n",
        "nb_classifier = MultinomialNB()\n",
        "nb_classifier.fit(X_train_tfidf, y_train)\n",
        "\n",
        "# Make predictions on the test set\n",
        "y_pred = nb_classifier.predict(X_test_tfidf)\n",
        "\n",
        "# Evaluate the classifier\n",
        "print(\"Accuracy:\", accuracy_score(y_test, y_pred))\n",
        "print(\"\\nClassification Report:\")\n",
        "print(classification_report(y_test, y_pred))"
      ],
      "metadata": {
        "colab": {
          "base_uri": "https://localhost:8080/"
        },
        "id": "AqOp9G28voui",
        "outputId": "d4f59ce1-cc3c-4b23-a657-023af030651d"
      },
      "execution_count": 13,
      "outputs": [
        {
          "output_type": "stream",
          "name": "stdout",
          "text": [
            "Accuracy: 0.5\n",
            "\n",
            "Classification Report:\n",
            "              precision    recall  f1-score   support\n",
            "\n",
            "           0       0.50      1.00      0.67         1\n",
            "           1       0.00      0.00      0.00         1\n",
            "\n",
            "    accuracy                           0.50         2\n",
            "   macro avg       0.25      0.50      0.33         2\n",
            "weighted avg       0.25      0.50      0.33         2\n",
            "\n"
          ]
        }
      ]
    },
    {
      "cell_type": "markdown",
      "source": [
        "#### 34) Write a Python program to train an SVM Classifier and a Naïve Bayes Classifier on the same dataset and compare their accuracy."
      ],
      "metadata": {
        "id": "2ggDlO2hwQEC"
      }
    },
    {
      "cell_type": "code",
      "source": [
        "from sklearn.datasets import make_classification\n",
        "from sklearn.model_selection import train_test_split\n",
        "from sklearn.svm import SVC\n",
        "from sklearn.naive_bayes import GaussianNB\n",
        "from sklearn.metrics import accuracy_score, classification_report\n",
        "\n",
        "# Generate a synthetic dataset\n",
        "X, y = make_classification(n_samples=300, n_features=10, n_informative=5, n_redundant=2, random_state=42)\n",
        "\n",
        "# Split the dataset into training and testing sets\n",
        "X_train, X_test, y_train, y_test = train_test_split(X, y, test_size=0.2, random_state=42)\n",
        "\n",
        "# Train an SVM Classifier\n",
        "svm_classifier = SVC(kernel='linear', C=1.0, random_state=42)\n",
        "svm_classifier.fit(X_train, y_train)\n",
        "y_pred_svm = svm_classifier.predict(X_test)\n",
        "accuracy_svm = accuracy_score(y_test, y_pred_svm)\n",
        "\n",
        "# Train a Naïve Bayes Classifier\n",
        "nb_classifier = GaussianNB()\n",
        "nb_classifier.fit(X_train, y_train)\n",
        "y_pred_nb = nb_classifier.predict(X_test)\n",
        "accuracy_nb = accuracy_score(y_test, y_pred_nb)\n",
        "\n",
        "# Compare the results\n",
        "print(\"Results for SVM Classifier:\")\n",
        "print(f\"Accuracy: {accuracy_svm}\")\n",
        "print(classification_report(y_test, y_pred_svm))\n",
        "\n",
        "print(\"\\nResults for Naive Bayes Classifier:\")\n",
        "print(f\"Accuracy: {accuracy_nb}\")\n",
        "print(classification_report(y_test, y_pred_nb))\n",
        "\n",
        "# Overall comparison\n",
        "if accuracy_svm > accuracy_nb:\n",
        "    print(\"\\nThe SVM Classifier outperforms the Naive Bayes Classifier.\")\n",
        "elif accuracy_nb > accuracy_svm:\n",
        "    print(\"\\nThe Naive Bayes Classifier outperforms the SVM Classifier.\")\n",
        "else:\n",
        "    print(\"\\nBoth classifiers have the same accuracy!\")"
      ],
      "metadata": {
        "colab": {
          "base_uri": "https://localhost:8080/"
        },
        "id": "68nc8aMmv_vY",
        "outputId": "a544a02f-b10e-437a-87c7-54e261957090"
      },
      "execution_count": 15,
      "outputs": [
        {
          "output_type": "stream",
          "name": "stdout",
          "text": [
            "Results for SVM Classifier:\n",
            "Accuracy: 0.85\n",
            "              precision    recall  f1-score   support\n",
            "\n",
            "           0       0.77      0.92      0.84        26\n",
            "           1       0.93      0.79      0.86        34\n",
            "\n",
            "    accuracy                           0.85        60\n",
            "   macro avg       0.85      0.86      0.85        60\n",
            "weighted avg       0.86      0.85      0.85        60\n",
            "\n",
            "\n",
            "Results for Naive Bayes Classifier:\n",
            "Accuracy: 0.9\n",
            "              precision    recall  f1-score   support\n",
            "\n",
            "           0       0.81      1.00      0.90        26\n",
            "           1       1.00      0.82      0.90        34\n",
            "\n",
            "    accuracy                           0.90        60\n",
            "   macro avg       0.91      0.91      0.90        60\n",
            "weighted avg       0.92      0.90      0.90        60\n",
            "\n",
            "\n",
            "The Naive Bayes Classifier outperforms the SVM Classifier.\n"
          ]
        }
      ]
    },
    {
      "cell_type": "markdown",
      "source": [
        "#### 35) Write a Python program to perform feature selection before training a Naive Bayes classifier and compare results"
      ],
      "metadata": {
        "id": "ZYR5dycWwjQ_"
      }
    },
    {
      "cell_type": "code",
      "source": [
        "from sklearn.datasets import make_classification\n",
        "from sklearn.model_selection import train_test_split\n",
        "from sklearn.naive_bayes import GaussianNB\n",
        "from sklearn.feature_selection import SelectKBest, f_classif\n",
        "from sklearn.metrics import accuracy_score, classification_report\n",
        "\n",
        "# Generate a synthetic dataset\n",
        "X, y = make_classification(n_samples=200, n_features=10, n_informative=8, n_redundant=2, random_state=42)\n",
        "\n",
        "# Split the dataset into training and testing sets\n",
        "X_train, X_test, y_train, y_test = train_test_split(X, y, test_size=0.2, random_state=42)\n",
        "\n",
        "# Train a Gaussian Naïve Bayes Classifier without feature selection\n",
        "gnb_default = GaussianNB()\n",
        "gnb_default.fit(X_train, y_train)\n",
        "y_pred_default = gnb_default.predict(X_test)\n",
        "accuracy_default = accuracy_score(y_test, y_pred_default)\n",
        "\n",
        "# Perform feature selection\n",
        "selector = SelectKBest(score_func=f_classif, k=5)  # Select top 5 features\n",
        "X_train_selected = selector.fit_transform(X_train, y_train)\n",
        "X_test_selected = selector.transform(X_test)\n",
        "\n",
        "# Train a Gaussian Naïve Bayes Classifier after feature selection\n",
        "gnb_selected = GaussianNB()\n",
        "gnb_selected.fit(X_train_selected, y_train)\n",
        "y_pred_selected = gnb_selected.predict(X_test_selected)\n",
        "accuracy_selected = accuracy_score(y_test, y_pred_selected)\n",
        "\n",
        "# Compare results\n",
        "print(\"Results without feature selection:\")\n",
        "print(f\"Accuracy: {accuracy_default}\")\n",
        "print(classification_report(y_test, y_pred_default))\n",
        "\n",
        "print(\"\\nResults with feature selection:\")\n",
        "print(f\"Accuracy: {accuracy_selected}\")\n",
        "print(classification_report(y_test, y_pred_selected))"
      ],
      "metadata": {
        "colab": {
          "base_uri": "https://localhost:8080/"
        },
        "id": "j0HhNsGZwbV7",
        "outputId": "d9140783-a4b8-4849-e6fe-f8d899ec11a4"
      },
      "execution_count": 16,
      "outputs": [
        {
          "output_type": "stream",
          "name": "stdout",
          "text": [
            "Results without feature selection:\n",
            "Accuracy: 0.525\n",
            "              precision    recall  f1-score   support\n",
            "\n",
            "           0       0.85      0.39      0.54        28\n",
            "           1       0.37      0.83      0.51        12\n",
            "\n",
            "    accuracy                           0.53        40\n",
            "   macro avg       0.61      0.61      0.52        40\n",
            "weighted avg       0.70      0.53      0.53        40\n",
            "\n",
            "\n",
            "Results with feature selection:\n",
            "Accuracy: 0.575\n",
            "              precision    recall  f1-score   support\n",
            "\n",
            "           0       0.87      0.46      0.60        28\n",
            "           1       0.40      0.83      0.54        12\n",
            "\n",
            "    accuracy                           0.57        40\n",
            "   macro avg       0.63      0.65      0.57        40\n",
            "weighted avg       0.73      0.57      0.59        40\n",
            "\n"
          ]
        }
      ]
    },
    {
      "cell_type": "markdown",
      "source": [
        "#### 36) Write a Python program to train an SVM Classifier using One-vs-Rest (OvR) and One-vs-One (OvO) strategies on the Wine dataset and compare their accuracy."
      ],
      "metadata": {
        "id": "rIa1wNY8wy0I"
      }
    },
    {
      "cell_type": "code",
      "source": [
        "from sklearn.datasets import load_wine\n",
        "from sklearn.model_selection import train_test_split\n",
        "from sklearn.preprocessing import StandardScaler\n",
        "from sklearn.svm import SVC\n",
        "from sklearn.multiclass import OneVsRestClassifier, OneVsOneClassifier\n",
        "from sklearn.metrics import accuracy_score, classification_report\n",
        "\n",
        "# Load the Wine dataset\n",
        "data = load_wine()\n",
        "X = data.data\n",
        "y = data.target\n",
        "\n",
        "# Split the dataset into training and testing sets\n",
        "X_train, X_test, y_train, y_test = train_test_split(X, y, test_size=0.2, random_state=42)\n",
        "\n",
        "# Standardize the features\n",
        "scaler = StandardScaler()\n",
        "X_train_scaled = scaler.fit_transform(X_train)\n",
        "X_test_scaled = scaler.transform(X_test)\n",
        "\n",
        "# Train SVM Classifier with One-vs-Rest strategy\n",
        "ovr_classifier = OneVsRestClassifier(SVC(kernel='linear', C=1.0))\n",
        "ovr_classifier.fit(X_train_scaled, y_train)\n",
        "y_pred_ovr = ovr_classifier.predict(X_test_scaled)\n",
        "\n",
        "# Train SVM Classifier with One-vs-One strategy\n",
        "ovo_classifier = OneVsOneClassifier(SVC(kernel='linear', C=1.0))\n",
        "ovo_classifier.fit(X_train_scaled, y_train)\n",
        "y_pred_ovo = ovo_classifier.predict(X_test_scaled)\n",
        "\n",
        "# Compare results\n",
        "accuracy_ovr = accuracy_score(y_test, y_pred_ovr)\n",
        "accuracy_ovo = accuracy_score(y_test, y_pred_ovo)\n",
        "\n",
        "print(\"Results with One-vs-Rest strategy:\")\n",
        "print(f\"Accuracy: {accuracy_ovr}\")\n",
        "print(classification_report(y_test, y_pred_ovr, target_names=data.target_names))\n",
        "\n",
        "print(\"\\nResults with One-vs-One strategy:\")\n",
        "print(f\"Accuracy: {accuracy_ovo}\")\n",
        "print(classification_report(y_test, y_pred_ovo, target_names=data.target_names))\n",
        "\n",
        "# Comparison\n",
        "if accuracy_ovr > accuracy_ovo:\n",
        "    print(\"\\nThe One-vs-Rest strategy outperforms the One-vs-One strategy on this dataset.\")\n",
        "elif accuracy_ovo > accuracy_ovr:\n",
        "    print(\"\\nThe One-vs-One strategy outperforms the One-vs-Rest strategy on this dataset.\")\n",
        "else:\n",
        "    print(\"\\nBoth strategies provide the same level of accuracy on this dataset.\")"
      ],
      "metadata": {
        "colab": {
          "base_uri": "https://localhost:8080/"
        },
        "id": "Xt03bKz4wv0K",
        "outputId": "fb0eb5c3-50f0-45eb-a57a-63e289128005"
      },
      "execution_count": 17,
      "outputs": [
        {
          "output_type": "stream",
          "name": "stdout",
          "text": [
            "Results with One-vs-Rest strategy:\n",
            "Accuracy: 1.0\n",
            "              precision    recall  f1-score   support\n",
            "\n",
            "     class_0       1.00      1.00      1.00        14\n",
            "     class_1       1.00      1.00      1.00        14\n",
            "     class_2       1.00      1.00      1.00         8\n",
            "\n",
            "    accuracy                           1.00        36\n",
            "   macro avg       1.00      1.00      1.00        36\n",
            "weighted avg       1.00      1.00      1.00        36\n",
            "\n",
            "\n",
            "Results with One-vs-One strategy:\n",
            "Accuracy: 0.9722222222222222\n",
            "              precision    recall  f1-score   support\n",
            "\n",
            "     class_0       1.00      1.00      1.00        14\n",
            "     class_1       1.00      0.93      0.96        14\n",
            "     class_2       0.89      1.00      0.94         8\n",
            "\n",
            "    accuracy                           0.97        36\n",
            "   macro avg       0.96      0.98      0.97        36\n",
            "weighted avg       0.98      0.97      0.97        36\n",
            "\n",
            "\n",
            "The One-vs-Rest strategy outperforms the One-vs-One strategy on this dataset.\n"
          ]
        }
      ]
    },
    {
      "cell_type": "markdown",
      "source": [
        "#### 37) Write a Python program to train an SVM Classifier using Linear, Polynomial, and RBF kernels on the Breast Cancer dataset and compare their accuracy."
      ],
      "metadata": {
        "id": "wk_aH0ltxBsQ"
      }
    },
    {
      "cell_type": "code",
      "source": [
        "from sklearn.datasets import load_breast_cancer\n",
        "from sklearn.model_selection import train_test_split\n",
        "from sklearn.svm import SVC\n",
        "from sklearn.preprocessing import StandardScaler\n",
        "from sklearn.metrics import accuracy_score, classification_report\n",
        "\n",
        "# Load the Breast Cancer dataset\n",
        "data = load_breast_cancer()\n",
        "X = data.data\n",
        "y = data.target\n",
        "\n",
        "# Split the dataset into training and testing sets\n",
        "X_train, X_test, y_train, y_test = train_test_split(X, y, test_size=0.2, random_state=42)\n",
        "\n",
        "# Standardize the features\n",
        "scaler = StandardScaler()\n",
        "X_train_scaled = scaler.fit_transform(X_train)\n",
        "X_test_scaled = scaler.transform(X_test)\n",
        "\n",
        "# Initialize kernels to compare\n",
        "kernels = ['linear', 'poly', 'rbf']\n",
        "results = {}\n",
        "\n",
        "for kernel in kernels:\n",
        "    print(f\"Training SVM with {kernel} kernel...\")\n",
        "    if kernel == 'poly':\n",
        "        # Specific parameters for polynomial kernel\n",
        "        model = SVC(kernel=kernel, degree=3, C=1.0, random_state=42)\n",
        "    else:\n",
        "        # Common setup for linear and RBF kernels\n",
        "        model = SVC(kernel=kernel, C=1.0, random_state=42)\n",
        "\n",
        "    model.fit(X_train_scaled, y_train)\n",
        "    y_pred = model.predict(X_test_scaled)\n",
        "\n",
        "    # Evaluate the model\n",
        "    accuracy = accuracy_score(y_test, y_pred)\n",
        "    results[kernel] = accuracy\n",
        "    print(f\"Accuracy for {kernel} kernel: {accuracy}\")\n",
        "    print(classification_report(y_test, y_pred, target_names=data.target_names))\n",
        "\n",
        "# Compare results\n",
        "print(\"\\nAccuracy comparison:\")\n",
        "for kernel, accuracy in results.items():\n",
        "    print(f\"{kernel} kernel: {accuracy}\")"
      ],
      "metadata": {
        "colab": {
          "base_uri": "https://localhost:8080/"
        },
        "id": "D7OpDszQw-UW",
        "outputId": "a059588a-579e-447f-c1dc-0a780f90def0"
      },
      "execution_count": 18,
      "outputs": [
        {
          "output_type": "stream",
          "name": "stdout",
          "text": [
            "Training SVM with linear kernel...\n",
            "Accuracy for linear kernel: 0.956140350877193\n",
            "              precision    recall  f1-score   support\n",
            "\n",
            "   malignant       0.93      0.95      0.94        43\n",
            "      benign       0.97      0.96      0.96        71\n",
            "\n",
            "    accuracy                           0.96       114\n",
            "   macro avg       0.95      0.96      0.95       114\n",
            "weighted avg       0.96      0.96      0.96       114\n",
            "\n",
            "Training SVM with poly kernel...\n",
            "Accuracy for poly kernel: 0.868421052631579\n",
            "              precision    recall  f1-score   support\n",
            "\n",
            "   malignant       1.00      0.65      0.79        43\n",
            "      benign       0.83      1.00      0.90        71\n",
            "\n",
            "    accuracy                           0.87       114\n",
            "   macro avg       0.91      0.83      0.85       114\n",
            "weighted avg       0.89      0.87      0.86       114\n",
            "\n",
            "Training SVM with rbf kernel...\n",
            "Accuracy for rbf kernel: 0.9824561403508771\n",
            "              precision    recall  f1-score   support\n",
            "\n",
            "   malignant       1.00      0.95      0.98        43\n",
            "      benign       0.97      1.00      0.99        71\n",
            "\n",
            "    accuracy                           0.98       114\n",
            "   macro avg       0.99      0.98      0.98       114\n",
            "weighted avg       0.98      0.98      0.98       114\n",
            "\n",
            "\n",
            "Accuracy comparison:\n",
            "linear kernel: 0.956140350877193\n",
            "poly kernel: 0.868421052631579\n",
            "rbf kernel: 0.9824561403508771\n"
          ]
        }
      ]
    },
    {
      "cell_type": "markdown",
      "source": [
        "#### 38) Write a Python program to train an SVM Classifier using Stratified K-Fold Cross-Validation and compute the average accuracy."
      ],
      "metadata": {
        "id": "-OdKoMyZxRHh"
      }
    },
    {
      "cell_type": "code",
      "source": [
        "import numpy as np\n",
        "from sklearn.datasets import make_classification\n",
        "from sklearn.svm import SVC\n",
        "from sklearn.model_selection import StratifiedKFold, cross_val_score\n",
        "\n",
        "# Generate synthetic dataset\n",
        "X, y = make_classification(n_samples=200, n_features=10, n_informative=8, n_redundant=2, random_state=42)\n",
        "\n",
        "# Define the SVM classifier\n",
        "svm_classifier = SVC(kernel='linear', C=1.0, random_state=42)\n",
        "\n",
        "# Define Stratified K-Fold Cross-Validation\n",
        "n_splits = 5\n",
        "skf = StratifiedKFold(n_splits=n_splits, shuffle=True, random_state=42)\n",
        "\n",
        "# Perform cross-validation and compute accuracy for each fold\n",
        "cv_accuracies = cross_val_score(svm_classifier, X, y, cv=skf, scoring='accuracy')\n",
        "\n",
        "# Compute average accuracy\n",
        "average_accuracy = np.mean(cv_accuracies)\n",
        "\n",
        "# Display the results\n",
        "print(f\"Accuracies for each fold: {cv_accuracies}\")\n",
        "print(f\"Average Accuracy: {average_accuracy}\")"
      ],
      "metadata": {
        "colab": {
          "base_uri": "https://localhost:8080/"
        },
        "id": "wWzGYlO-xOod",
        "outputId": "297c917e-8b77-4103-9237-df207901064c"
      },
      "execution_count": 19,
      "outputs": [
        {
          "output_type": "stream",
          "name": "stdout",
          "text": [
            "Accuracies for each fold: [0.675 0.75  0.65  0.8   0.85 ]\n",
            "Average Accuracy: 0.745\n"
          ]
        }
      ]
    },
    {
      "cell_type": "markdown",
      "source": [
        "#### 39) Write a Python program to train a Naïve Bayes classifier using different prior probabilities and compare performance."
      ],
      "metadata": {
        "id": "oe3opzEZxfYH"
      }
    },
    {
      "cell_type": "code",
      "source": [
        "from sklearn.datasets import make_classification\n",
        "from sklearn.model_selection import train_test_split\n",
        "from sklearn.naive_bayes import GaussianNB\n",
        "from sklearn.metrics import accuracy_score, classification_report\n",
        "\n",
        "# Generate a synthetic dataset\n",
        "X, y = make_classification(n_samples=300, n_features=10, n_informative=5, n_redundant=2, random_state=42)\n",
        "\n",
        "# Split the dataset into training and testing sets\n",
        "X_train, X_test, y_train, y_test = train_test_split(X, y, test_size=0.2, random_state=42)\n",
        "\n",
        "# Define prior probabilities for classes\n",
        "priors_list = [\n",
        "    None,  # Default priors\n",
        "    [0.7, 0.3],  # Higher probability for class 0\n",
        "    [0.5, 0.5]   # Equal probabilities for both classes\n",
        "]\n",
        "\n",
        "# Evaluate Naïve Bayes with different priors\n",
        "results = {}\n",
        "for priors in priors_list:\n",
        "    print(f\"Training with priors: {priors}\")\n",
        "    classifier = GaussianNB(priors=priors)\n",
        "    classifier.fit(X_train, y_train)\n",
        "    y_pred = classifier.predict(X_test)\n",
        "\n",
        "    # Calculate accuracy\n",
        "    accuracy = accuracy_score(y_test, y_pred)\n",
        "    results[str(priors)] = accuracy\n",
        "\n",
        "    print(f\"Accuracy: {accuracy}\")\n",
        "    print(classification_report(y_test, y_pred))\n",
        "\n",
        "# Compare results\n",
        "print(\"\\nComparison of results:\")\n",
        "for priors, accuracy in results.items():\n",
        "    print(f\"Priors {priors}: Accuracy = {accuracy}\")"
      ],
      "metadata": {
        "colab": {
          "base_uri": "https://localhost:8080/"
        },
        "id": "hRAkiDnAxd8w",
        "outputId": "48ea6a40-6458-4419-b248-1f50740d6df9"
      },
      "execution_count": 20,
      "outputs": [
        {
          "output_type": "stream",
          "name": "stdout",
          "text": [
            "Training with priors: None\n",
            "Accuracy: 0.9\n",
            "              precision    recall  f1-score   support\n",
            "\n",
            "           0       0.81      1.00      0.90        26\n",
            "           1       1.00      0.82      0.90        34\n",
            "\n",
            "    accuracy                           0.90        60\n",
            "   macro avg       0.91      0.91      0.90        60\n",
            "weighted avg       0.92      0.90      0.90        60\n",
            "\n",
            "Training with priors: [0.7, 0.3]\n",
            "Accuracy: 0.85\n",
            "              precision    recall  f1-score   support\n",
            "\n",
            "           0       0.74      1.00      0.85        26\n",
            "           1       1.00      0.74      0.85        34\n",
            "\n",
            "    accuracy                           0.85        60\n",
            "   macro avg       0.87      0.87      0.85        60\n",
            "weighted avg       0.89      0.85      0.85        60\n",
            "\n",
            "Training with priors: [0.5, 0.5]\n",
            "Accuracy: 0.9\n",
            "              precision    recall  f1-score   support\n",
            "\n",
            "           0       0.81      1.00      0.90        26\n",
            "           1       1.00      0.82      0.90        34\n",
            "\n",
            "    accuracy                           0.90        60\n",
            "   macro avg       0.91      0.91      0.90        60\n",
            "weighted avg       0.92      0.90      0.90        60\n",
            "\n",
            "\n",
            "Comparison of results:\n",
            "Priors None: Accuracy = 0.9\n",
            "Priors [0.7, 0.3]: Accuracy = 0.85\n",
            "Priors [0.5, 0.5]: Accuracy = 0.9\n"
          ]
        }
      ]
    },
    {
      "cell_type": "markdown",
      "source": [
        "#### 40) Write a Python program to perform Recursive Feature Elimination (RFE) before training an SVM Classifier and compare accuracy."
      ],
      "metadata": {
        "id": "9iPVNdmsxsCT"
      }
    },
    {
      "cell_type": "code",
      "source": [
        "from sklearn.datasets import make_classification\n",
        "from sklearn.model_selection import train_test_split\n",
        "from sklearn.svm import SVC\n",
        "from sklearn.feature_selection import RFE\n",
        "from sklearn.metrics import accuracy_score, classification_report\n",
        "\n",
        "# Generate synthetic dataset\n",
        "X, y = make_classification(n_samples=300, n_features=15, n_informative=10, n_redundant=5, random_state=42)\n",
        "\n",
        "# Split the dataset into training and testing sets\n",
        "X_train, X_test, y_train, y_test = train_test_split(X, y, test_size=0.2, random_state=42)\n",
        "\n",
        "# Train the SVM classifier without feature selection\n",
        "svm_default = SVC(kernel='linear', C=1.0, random_state=42)\n",
        "svm_default.fit(X_train, y_train)\n",
        "y_pred_default = svm_default.predict(X_test)\n",
        "accuracy_default = accuracy_score(y_test, y_pred_default)\n",
        "\n",
        "# Apply Recursive Feature Elimination (RFE)\n",
        "rfe = RFE(estimator=SVC(kernel='linear', C=1.0), n_features_to_select=10)\n",
        "X_train_rfe = rfe.fit_transform(X_train, y_train)\n",
        "X_test_rfe = rfe.transform(X_test)\n",
        "\n",
        "# Train the SVM classifier after RFE\n",
        "svm_rfe = SVC(kernel='linear', C=1.0, random_state=42)\n",
        "svm_rfe.fit(X_train_rfe, y_train)\n",
        "y_pred_rfe = svm_rfe.predict(X_test_rfe)\n",
        "accuracy_rfe = accuracy_score(y_test, y_pred_rfe)\n",
        "\n",
        "# Compare the results\n",
        "print(\"Results without Recursive Feature Elimination:\")\n",
        "print(f\"Accuracy: {accuracy_default}\")\n",
        "print(classification_report(y_test, y_pred_default))\n",
        "\n",
        "print(\"\\nResults with Recursive Feature Elimination:\")\n",
        "print(f\"Accuracy: {accuracy_rfe}\")\n",
        "print(classification_report(y_test, y_pred_rfe))\n",
        "\n",
        "# Feature Ranking\n",
        "print(\"\\nFeature Rankings from RFE:\")\n",
        "print(rfe.ranking_)"
      ],
      "metadata": {
        "colab": {
          "base_uri": "https://localhost:8080/"
        },
        "id": "gj3Bo5hDxp7_",
        "outputId": "688d601b-728a-4a9d-a6b7-821cbae38f86"
      },
      "execution_count": 21,
      "outputs": [
        {
          "output_type": "stream",
          "name": "stdout",
          "text": [
            "Results without Recursive Feature Elimination:\n",
            "Accuracy: 0.85\n",
            "              precision    recall  f1-score   support\n",
            "\n",
            "           0       0.90      0.81      0.85        32\n",
            "           1       0.81      0.89      0.85        28\n",
            "\n",
            "    accuracy                           0.85        60\n",
            "   macro avg       0.85      0.85      0.85        60\n",
            "weighted avg       0.85      0.85      0.85        60\n",
            "\n",
            "\n",
            "Results with Recursive Feature Elimination:\n",
            "Accuracy: 0.8666666666666667\n",
            "              precision    recall  f1-score   support\n",
            "\n",
            "           0       0.90      0.84      0.87        32\n",
            "           1       0.83      0.89      0.86        28\n",
            "\n",
            "    accuracy                           0.87        60\n",
            "   macro avg       0.87      0.87      0.87        60\n",
            "weighted avg       0.87      0.87      0.87        60\n",
            "\n",
            "\n",
            "Feature Rankings from RFE:\n",
            "[1 1 1 2 1 1 1 6 1 1 4 1 1 3 5]\n"
          ]
        }
      ]
    },
    {
      "cell_type": "markdown",
      "source": [
        "#### 41) Write a Python program to train an SVM Classifier and evaluate its performance using Precision, Recall, and F1-Score instead of accuracy."
      ],
      "metadata": {
        "id": "RhkBsvYbx4cn"
      }
    },
    {
      "cell_type": "code",
      "source": [
        "from sklearn.datasets import make_classification\n",
        "from sklearn.model_selection import train_test_split\n",
        "from sklearn.svm import SVC\n",
        "from sklearn.metrics import precision_score, recall_score, f1_score, classification_report\n",
        "\n",
        "# Generate a synthetic dataset\n",
        "X, y = make_classification(n_samples=300, n_features=10, n_informative=5, n_redundant=2, random_state=42)\n",
        "\n",
        "# Split the dataset into training and testing sets\n",
        "X_train, X_test, y_train, y_test = train_test_split(X, y, test_size=0.2, random_state=42)\n",
        "\n",
        "# Train the SVM Classifier\n",
        "svm_classifier = SVC(kernel='linear', random_state=42)\n",
        "svm_classifier.fit(X_train, y_train)\n",
        "\n",
        "# Make predictions on the test set\n",
        "y_pred = svm_classifier.predict(X_test)\n",
        "\n",
        "# Compute Precision, Recall, and F1-Score\n",
        "precision = precision_score(y_test, y_pred)\n",
        "recall = recall_score(y_test, y_pred)\n",
        "f1 = f1_score(y_test, y_pred)\n",
        "\n",
        "print(f\"Precision: {precision:.2f}\")\n",
        "print(f\"Recall: {recall:.2f}\")\n",
        "print(f\"F1-Score: {f1:.2f}\")\n",
        "\n",
        "# Detailed classification report\n",
        "print(\"\\nClassification Report:\")\n",
        "print(classification_report(y_test, y_pred))"
      ],
      "metadata": {
        "colab": {
          "base_uri": "https://localhost:8080/"
        },
        "id": "aZXQ_cK5yF4U",
        "outputId": "240820b7-e7df-4db8-b5df-aa7f9c996705"
      },
      "execution_count": 22,
      "outputs": [
        {
          "output_type": "stream",
          "name": "stdout",
          "text": [
            "Precision: 0.93\n",
            "Recall: 0.79\n",
            "F1-Score: 0.86\n",
            "\n",
            "Classification Report:\n",
            "              precision    recall  f1-score   support\n",
            "\n",
            "           0       0.77      0.92      0.84        26\n",
            "           1       0.93      0.79      0.86        34\n",
            "\n",
            "    accuracy                           0.85        60\n",
            "   macro avg       0.85      0.86      0.85        60\n",
            "weighted avg       0.86      0.85      0.85        60\n",
            "\n"
          ]
        }
      ]
    },
    {
      "cell_type": "markdown",
      "source": [
        "#### 42) Write a Python program to train a Naïve Bayes Classifier and evaluate its performance using Log Loss (Cross-Entropy Loss)."
      ],
      "metadata": {
        "id": "MjmlVQX8yKEB"
      }
    },
    {
      "cell_type": "code",
      "source": [
        "from sklearn.datasets import make_classification\n",
        "from sklearn.model_selection import train_test_split\n",
        "from sklearn.naive_bayes import GaussianNB\n",
        "from sklearn.metrics import log_loss, classification_report\n",
        "\n",
        "# Generate a synthetic binary classification dataset\n",
        "X, y = make_classification(n_samples=300, n_features=10, n_informative=5, n_redundant=2, random_state=42)\n",
        "\n",
        "# Split the dataset into training and testing sets\n",
        "X_train, X_test, y_train, y_test = train_test_split(X, y, test_size=0.2, random_state=42)\n",
        "\n",
        "# Train a Naïve Bayes Classifier\n",
        "nb_classifier = GaussianNB()\n",
        "nb_classifier.fit(X_train, y_train)\n",
        "\n",
        "# Predict probabilities for the test set\n",
        "y_prob = nb_classifier.predict_proba(X_test)\n",
        "\n",
        "# Evaluate the model using Log Loss\n",
        "logloss = log_loss(y_test, y_prob)\n",
        "print(f\"Log Loss (Cross-Entropy Loss): {logloss:.4f}\")\n",
        "\n",
        "# Additional evaluation: Classification Report\n",
        "y_pred = nb_classifier.predict(X_test)\n",
        "print(\"\\nClassification Report:\")\n",
        "print(classification_report(y_test, y_pred))"
      ],
      "metadata": {
        "colab": {
          "base_uri": "https://localhost:8080/"
        },
        "id": "IlyFK8BbyIhq",
        "outputId": "e220cf25-316f-42e8-a892-3e82bad7ecf9"
      },
      "execution_count": 23,
      "outputs": [
        {
          "output_type": "stream",
          "name": "stdout",
          "text": [
            "Log Loss (Cross-Entropy Loss): 0.2901\n",
            "\n",
            "Classification Report:\n",
            "              precision    recall  f1-score   support\n",
            "\n",
            "           0       0.81      1.00      0.90        26\n",
            "           1       1.00      0.82      0.90        34\n",
            "\n",
            "    accuracy                           0.90        60\n",
            "   macro avg       0.91      0.91      0.90        60\n",
            "weighted avg       0.92      0.90      0.90        60\n",
            "\n"
          ]
        }
      ]
    },
    {
      "cell_type": "markdown",
      "source": [
        "#### 43)  Write a Python program to train an SVM Classifier and visualize the Confusion Matrix using seaborn."
      ],
      "metadata": {
        "id": "qjlS5N6Bybtw"
      }
    },
    {
      "cell_type": "code",
      "source": [
        "import numpy as np\n",
        "import seaborn as sns\n",
        "import matplotlib.pyplot as plt\n",
        "from sklearn.datasets import make_classification\n",
        "from sklearn.model_selection import train_test_split\n",
        "from sklearn.svm import SVC\n",
        "from sklearn.metrics import confusion_matrix, classification_report\n",
        "\n",
        "# Generate synthetic dataset\n",
        "X, y = make_classification(n_samples=300, n_features=10, n_informative=5, n_redundant=2, random_state=42)\n",
        "\n",
        "# Split the dataset into training and testing sets\n",
        "X_train, X_test, y_train, y_test = train_test_split(X, y, test_size=0.2, random_state=42)\n",
        "\n",
        "# Train the SVM Classifier\n",
        "svm_classifier = SVC(kernel='linear', random_state=42)\n",
        "svm_classifier.fit(X_train, y_train)\n",
        "\n",
        "# Make predictions on the test set\n",
        "y_pred = svm_classifier.predict(X_test)\n",
        "\n",
        "# Generate the Confusion Matrix\n",
        "cm = confusion_matrix(y_test, y_pred)\n",
        "\n",
        "# Visualize the Confusion Matrix using seaborn\n",
        "plt.figure(figsize=(8, 6))\n",
        "sns.heatmap(cm, annot=True, fmt=\"d\", cmap=\"Blues\", xticklabels=[\"Class 0\", \"Class 1\"], yticklabels=[\"Class 0\", \"Class 1\"])\n",
        "plt.title(\"Confusion Matrix\")\n",
        "plt.xlabel(\"Predicted Labels\")\n",
        "plt.ylabel(\"True Labels\")\n",
        "plt.show()\n",
        "\n",
        "# Additional evaluation metrics\n",
        "print(\"\\nClassification Report:\")\n",
        "print(classification_report(y_test, y_pred))"
      ],
      "metadata": {
        "colab": {
          "base_uri": "https://localhost:8080/",
          "height": 765
        },
        "id": "a2d1c19SyZ-A",
        "outputId": "5ca805c0-6488-4472-b224-c27f9d25aed5"
      },
      "execution_count": 24,
      "outputs": [
        {
          "output_type": "display_data",
          "data": {
            "text/plain": [
              "<Figure size 800x600 with 2 Axes>"
            ],
            "image/png": "[encoded data removed]"
          },
          "metadata": {}
        },
        {
          "output_type": "stream",
          "name": "stdout",
          "text": [
            "\n",
            "Classification Report:\n",
            "              precision    recall  f1-score   support\n",
            "\n",
            "           0       0.77      0.92      0.84        26\n",
            "           1       0.93      0.79      0.86        34\n",
            "\n",
            "    accuracy                           0.85        60\n",
            "   macro avg       0.85      0.86      0.85        60\n",
            "weighted avg       0.86      0.85      0.85        60\n",
            "\n"
          ]
        }
      ]
    },
    {
      "cell_type": "markdown",
      "source": [
        "#### 44) Write a Python program to train an SVM Regressor (SVR) and evaluate its performance using Mean Absolute Error (MAE) instead of MSE."
      ],
      "metadata": {
        "id": "FgEH_d8yyoAF"
      }
    },
    {
      "cell_type": "code",
      "source": [
        "from sklearn.datasets import fetch_california_housing\n",
        "from sklearn.model_selection import train_test_split\n",
        "from sklearn.svm import SVR\n",
        "from sklearn.preprocessing import StandardScaler\n",
        "from sklearn.metrics import mean_absolute_error\n",
        "\n",
        "# Load the California housing dataset\n",
        "data = fetch_california_housing()\n",
        "X = data.data\n",
        "y = data.target\n",
        "\n",
        "# Split the dataset into training and testing sets\n",
        "X_train, X_test, y_train, y_test = train_test_split(X, y, test_size=0.2, random_state=42)\n",
        "\n",
        "# Scale the features\n",
        "scaler = StandardScaler()\n",
        "X_train_scaled = scaler.fit_transform(X_train)\n",
        "X_test_scaled = scaler.transform(X_test)\n",
        "\n",
        "# Train the SVR model\n",
        "svr_model = SVR(kernel='rbf', C=1.0, epsilon=0.2)\n",
        "svr_model.fit(X_train_scaled, y_train)\n",
        "\n",
        "# Predict on the test set\n",
        "y_pred = svr_model.predict(X_test_scaled)\n",
        "\n",
        "# Calculate Mean Absolute Error (MAE)\n",
        "mae = mean_absolute_error(y_test, y_pred)\n",
        "print(f\"Mean Absolute Error (MAE): {mae}\")"
      ],
      "metadata": {
        "colab": {
          "base_uri": "https://localhost:8080/"
        },
        "id": "sROEXbEpylxX",
        "outputId": "91a2ab74-e67a-4b11-c276-5a6696832e93"
      },
      "execution_count": 25,
      "outputs": [
        {
          "output_type": "stream",
          "name": "stdout",
          "text": [
            "Mean Absolute Error (MAE): 0.4004270934879417\n"
          ]
        }
      ]
    },
    {
      "cell_type": "markdown",
      "source": [
        "#### 45) Write a Python program to train a Naïve Bayes classifier and evaluate its performance using the ROC-AUC score."
      ],
      "metadata": {
        "id": "_VH4WPaPy4aE"
      }
    },
    {
      "cell_type": "code",
      "source": [
        "from sklearn.datasets import make_classification\n",
        "from sklearn.model_selection import train_test_split\n",
        "from sklearn.naive_bayes import GaussianNB\n",
        "from sklearn.metrics import roc_auc_score, roc_curve\n",
        "import matplotlib.pyplot as plt\n",
        "\n",
        "# Generate a synthetic binary classification dataset\n",
        "X, y = make_classification(n_samples=300, n_features=10, n_informative=5, n_redundant=2, random_state=42)\n",
        "\n",
        "# Split the dataset into training and testing sets\n",
        "X_train, X_test, y_train, y_test = train_test_split(X, y, test_size=0.2, random_state=42)\n",
        "\n",
        "# Train the Naïve Bayes classifier\n",
        "nb_classifier = GaussianNB()\n",
        "nb_classifier.fit(X_train, y_train)\n",
        "\n",
        "# Predict probabilities for the test set\n",
        "y_prob = nb_classifier.predict_proba(X_test)[:, 1]  # Probability for the positive class\n",
        "\n",
        "# Evaluate the model using the ROC-AUC score\n",
        "roc_auc = roc_auc_score(y_test, y_prob)\n",
        "print(f\"ROC-AUC Score: {roc_auc:.4f}\")\n",
        "\n",
        "# Plot the ROC Curve\n",
        "fpr, tpr, thresholds = roc_curve(y_test, y_prob)\n",
        "plt.figure(figsize=(8, 6))\n",
        "plt.plot(fpr, tpr, label=f\"ROC Curve (AUC = {roc_auc:.4f})\")\n",
        "plt.plot([0, 1], [0, 1], linestyle=\"--\", color=\"gray\", label=\"Random Guess\")\n",
        "plt.xlabel(\"False Positive Rate\")\n",
        "plt.ylabel(\"True Positive Rate\")\n",
        "plt.title(\"ROC Curve\")\n",
        "plt.legend()\n",
        "plt.grid()\n",
        "plt.show()"
      ],
      "metadata": {
        "colab": {
          "base_uri": "https://localhost:8080/",
          "height": 582
        },
        "id": "wRQi1MoHyyAy",
        "outputId": "a80f598b-32b6-40d4-87c5-5c219e4883d4"
      },
      "execution_count": 26,
      "outputs": [
        {
          "output_type": "stream",
          "name": "stdout",
          "text": [
            "ROC-AUC Score: 0.9593\n"
          ]
        },
        {
          "output_type": "display_data",
          "data": {
            "text/plain": [
              "<Figure size 800x600 with 1 Axes>"
            ],
            "image/png": "[encoded data removed]"
          },
          "metadata": {}
        }
      ]
    },
    {
      "cell_type": "markdown",
      "source": [
        "#### 46) Write a Python program to train an SVM Classifier and visualize the Precision-Recall Curve."
      ],
      "metadata": {
        "id": "wFF7_FrPzFns"
      }
    },
    {
      "cell_type": "code",
      "source": [
        "import numpy as np\n",
        "import matplotlib.pyplot as plt\n",
        "from sklearn.datasets import make_classification\n",
        "from sklearn.model_selection import train_test_split\n",
        "from sklearn.svm import SVC\n",
        "from sklearn.metrics import precision_recall_curve, auc\n",
        "\n",
        "# Generate synthetic dataset\n",
        "X, y = make_classification(n_samples=300, n_features=10, n_informative=5, n_redundant=2, random_state=42)\n",
        "\n",
        "# Split the dataset into training and testing sets\n",
        "X_train, X_test, y_train, y_test = train_test_split(X, y, test_size=0.2, random_state=42)\n",
        "\n",
        "# Train the SVM Classifier\n",
        "svm_classifier = SVC(kernel='linear', probability=True, random_state=42)\n",
        "svm_classifier.fit(X_train, y_train)\n",
        "\n",
        "# Predict probabilities for the test set\n",
        "y_prob = svm_classifier.predict_proba(X_test)[:, 1]  # Probability for the positive class\n",
        "\n",
        "# Calculate precision, recall, and thresholds\n",
        "precision, recall, thresholds = precision_recall_curve(y_test, y_prob)\n",
        "\n",
        "# Compute the area under the Precision-Recall Curve (AUC)\n",
        "pr_auc = auc(recall, precision)\n",
        "\n",
        "# Plot the Precision-Recall Curve\n",
        "plt.figure(figsize=(8, 6))\n",
        "plt.plot(recall, precision, label=f\"Precision-Recall Curve (AUC = {pr_auc:.4f})\", color=\"blue\")\n",
        "plt.xlabel(\"Recall\")\n",
        "plt.ylabel(\"Precision\")\n",
        "plt.title(\"Precision-Recall Curve\")\n",
        "plt.legend(loc=\"best\")\n",
        "plt.grid()\n",
        "plt.show()"
      ],
      "metadata": {
        "colab": {
          "base_uri": "https://localhost:8080/",
          "height": 564
        },
        "id": "s0qNWFKhzDdp",
        "outputId": "eb938a5f-6cee-4056-ddf8-69672af30498"
      },
      "execution_count": 27,
      "outputs": [
        {
          "output_type": "display_data",
          "data": {
            "text/plain": [
              "<Figure size 800x600 with 1 Axes>"
            ],
            "image/png": "[encoded data removed]"
          },
          "metadata": {}
        }
      ]
    }
  ]
}